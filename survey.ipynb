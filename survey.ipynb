{
 "cells": [
  {
   "cell_type": "code",
   "execution_count": 1,
   "metadata": {},
   "outputs": [],
   "source": [
    "import json"
   ]
  },
  {
   "cell_type": "code",
   "execution_count": 2,
   "metadata": {},
   "outputs": [],
   "source": [
    "with open(\"solidity.json\",\"r\",encoding=\"UTF-8\") as f:\n",
    "    paper_sol = json.load(f)"
   ]
  },
  {
   "cell_type": "code",
   "execution_count": 3,
   "metadata": {},
   "outputs": [],
   "source": [
    "with open(\"20-21.json\",\"r\",encoding=\"UTF-8\") as f:\n",
    "    paper_20 = json.load(f)"
   ]
  },
  {
   "cell_type": "code",
   "execution_count": 4,
   "metadata": {},
   "outputs": [],
   "source": [
    "with open(\"22-23.json\",\"r\",encoding=\"UTF-8\") as f:\n",
    "    paper_22 = json.load(f)"
   ]
  },
  {
   "cell_type": "code",
   "execution_count": 5,
   "metadata": {},
   "outputs": [],
   "source": [
    "with open(\"15-19.json\",\"r\",encoding=\"UTF-8\") as f:\n",
    "    paper_15 = json.load(f)"
   ]
  },
  {
   "cell_type": "code",
   "execution_count": 9,
   "metadata": {},
   "outputs": [],
   "source": [
    "data = {\"title\":[],\"url\":[],\"year\":[],\"authors\":[],\"venue\":[],\"type\":[],\"access\":[],\"key\":[],\"ee\":[]}\n",
    "\n",
    "def get_info(item:dict,data:dict):\n",
    "    if \"title\" in item[\"info\"].keys():\n",
    "        data[\"title\"].append(item[\"info\"][\"title\"])\n",
    "    else:\n",
    "        data[\"title\"].append(\"\")\n",
    "    \n",
    "    if \"url\" in item[\"info\"].keys():\n",
    "        data[\"url\"].append(item[\"info\"][\"url\"])\n",
    "    else:\n",
    "        data[\"url\"].append('')\n",
    "    \n",
    "    if \"year\" in item[\"info\"].keys():\n",
    "        data[\"year\"].append(item[\"info\"][\"year\"])\n",
    "    else:\n",
    "        data[\"year\"].append('')\n",
    "    \n",
    "    if \"authors\" in item[\"info\"].keys():\n",
    "        data[\"authors\"].append([a[\"text\"] for a in item[\"info\"][\"authors\"][\"author\"] if isinstance(a,dict)])\n",
    "    else:\n",
    "        data[\"authors\"].append('')\n",
    "    \n",
    "    if \"venue\" in item[\"info\"].keys():\n",
    "        data[\"venue\"].append(item[\"info\"][\"venue\"])\n",
    "    else:\n",
    "        data[\"venue\"].append('')\n",
    "    \n",
    "    if \"type\" in item[\"info\"].keys():\n",
    "        data[\"type\"].append(item[\"info\"][\"type\"])\n",
    "    else:\n",
    "        data[\"type\"].append('')\n",
    "        \n",
    "    if \"access\" in item[\"info\"].keys():\n",
    "        data[\"access\"].append(item[\"info\"][\"access\"])\n",
    "    else:\n",
    "        data[\"access\"].append('')\n",
    "        \n",
    "    if \"key\" in item[\"info\"].keys():\n",
    "        data[\"key\"].append(item[\"info\"][\"key\"])\n",
    "    else:\n",
    "        data[\"key\"].append('')\n",
    "    \n",
    "    if \"ee\" in item[\"info\"].keys():\n",
    "        data[\"ee\"].append(item[\"info\"][\"ee\"])\n",
    "    else:\n",
    "        data[\"ee\"].append('')\n",
    "    \n",
    "for item in paper_15[\"result\"][\"hits\"][\"hit\"]:\n",
    "    get_info(item,data)\n",
    "\n",
    "for item in paper_20[\"result\"][\"hits\"][\"hit\"]:\n",
    "    get_info(item,data)\n",
    "    \n",
    "for item in paper_22[\"result\"][\"hits\"][\"hit\"]:\n",
    "    get_info(item,data)\n",
    "    \n",
    "for item in paper_sol[\"result\"][\"hits\"][\"hit\"]:\n",
    "    get_info(item,data)\n",
    "\n",
    "\n",
    "import pandas as pd\n",
    "\n",
    "data_pd = pd.DataFrame(data,columns = [\"title\",\"url\",\"year\",\"authors\",\"venue\",\"type\",\"access\",\"key\",\"ee\"])    \n"
   ]
  },
  {
   "cell_type": "code",
   "execution_count": 11,
   "metadata": {},
   "outputs": [
    {
     "name": "stdout",
     "output_type": "stream",
     "text": [
      "<class 'pandas.core.frame.DataFrame'>\n",
      "RangeIndex: 2642 entries, 0 to 2641\n",
      "Data columns (total 9 columns):\n",
      " #   Column   Non-Null Count  Dtype \n",
      "---  ------   --------------  ----- \n",
      " 0   title    2642 non-null   object\n",
      " 1   url      2642 non-null   object\n",
      " 2   year     2642 non-null   object\n",
      " 3   authors  2642 non-null   object\n",
      " 4   venue    2642 non-null   object\n",
      " 5   type     2642 non-null   object\n",
      " 6   access   2642 non-null   object\n",
      " 7   key      2642 non-null   object\n",
      " 8   ee       2642 non-null   object\n",
      "dtypes: object(9)\n",
      "memory usage: 185.9+ KB\n"
     ]
    }
   ],
   "source": [
    "data_pd.info()"
   ]
  },
  {
   "cell_type": "code",
   "execution_count": 26,
   "metadata": {},
   "outputs": [
    {
     "name": "stdout",
     "output_type": "stream",
     "text": [
      "<class 'pandas.core.frame.DataFrame'>\n",
      "Int64Index: 2188 entries, 0 to 2641\n",
      "Data columns (total 9 columns):\n",
      " #   Column   Non-Null Count  Dtype \n",
      "---  ------   --------------  ----- \n",
      " 0   title    2188 non-null   object\n",
      " 1   url      2188 non-null   object\n",
      " 2   year     2188 non-null   object\n",
      " 3   authors  2188 non-null   object\n",
      " 4   venue    2188 non-null   object\n",
      " 5   type     2188 non-null   object\n",
      " 6   access   2188 non-null   object\n",
      " 7   key      2188 non-null   object\n",
      " 8   ee       2188 non-null   object\n",
      "dtypes: object(9)\n",
      "memory usage: 170.9+ KB\n"
     ]
    }
   ],
   "source": [
    "data_noCoRR = data_pd[data_pd[\"venue\"] != \"CoRR\"]\n",
    "data_noCoRR.info()"
   ]
  },
  {
   "cell_type": "code",
   "execution_count": 27,
   "metadata": {},
   "outputs": [
    {
     "name": "stdout",
     "output_type": "stream",
     "text": [
      "<class 'pandas.core.frame.DataFrame'>\n",
      "Int64Index: 2142 entries, 0 to 2641\n",
      "Data columns (total 9 columns):\n",
      " #   Column   Non-Null Count  Dtype \n",
      "---  ------   --------------  ----- \n",
      " 0   title    2142 non-null   object\n",
      " 1   url      2142 non-null   object\n",
      " 2   year     2142 non-null   object\n",
      " 3   authors  2142 non-null   object\n",
      " 4   venue    2142 non-null   object\n",
      " 5   type     2142 non-null   object\n",
      " 6   access   2142 non-null   object\n",
      " 7   key      2142 non-null   object\n",
      " 8   ee       2142 non-null   object\n",
      "dtypes: object(9)\n",
      "memory usage: 167.3+ KB\n"
     ]
    }
   ],
   "source": [
    "data_noCoRR_dedup = data_noCoRR.drop_duplicates(subset=[\"url\"],keep=\"first\",inplace=False)\n",
    "data_noCoRR_dedup.info()"
   ]
  },
  {
   "cell_type": "code",
   "execution_count": 28,
   "metadata": {},
   "outputs": [
    {
     "name": "stdout",
     "output_type": "stream",
     "text": [
      "<class 'pandas.core.frame.DataFrame'>\n",
      "Int64Index: 69 entries, 44 to 2613\n",
      "Data columns (total 9 columns):\n",
      " #   Column   Non-Null Count  Dtype \n",
      "---  ------   --------------  ----- \n",
      " 0   title    69 non-null     object\n",
      " 1   url      69 non-null     object\n",
      " 2   year     69 non-null     object\n",
      " 3   authors  69 non-null     object\n",
      " 4   venue    69 non-null     object\n",
      " 5   type     69 non-null     object\n",
      " 6   access   69 non-null     object\n",
      " 7   key      69 non-null     object\n",
      " 8   ee       69 non-null     object\n",
      "dtypes: object(9)\n",
      "memory usage: 5.4+ KB\n"
     ]
    }
   ],
   "source": [
    "groups = data_noCoRR_dedup.groupby([\"title\"])\n",
    "duplicates  = groups.filter(lambda x: len(x) > 1)\n",
    "\n",
    "duplicates.info()"
   ]
  },
  {
   "cell_type": "code",
   "execution_count": 29,
   "metadata": {},
   "outputs": [],
   "source": [
    "data_noCoRR_dedup.to_csv(\"survey_paper.csv\",index=False)"
   ]
  }
 ],
 "metadata": {
  "kernelspec": {
   "display_name": "Python 3",
   "language": "python",
   "name": "python3"
  },
  "language_info": {
   "codemirror_mode": {
    "name": "ipython",
    "version": 3
   },
   "file_extension": ".py",
   "mimetype": "text/x-python",
   "name": "python",
   "nbconvert_exporter": "python",
   "pygments_lexer": "ipython3",
   "version": "3.8.2"
  },
  "orig_nbformat": 4
 },
 "nbformat": 4,
 "nbformat_minor": 2
}
